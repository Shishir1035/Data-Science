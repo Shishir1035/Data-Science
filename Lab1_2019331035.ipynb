{
  "cells": [
    {
      "cell_type": "markdown",
      "metadata": {
        "id": "view-in-github",
        "colab_type": "text"
      },
      "source": [
        "<a href=\"https://colab.research.google.com/github/Shishir1035/Data-Science/blob/main/Lab1_2019331035.ipynb\" target=\"_parent\"><img src=\"https://colab.research.google.com/assets/colab-badge.svg\" alt=\"Open In Colab\"/></a>"
      ]
    },
    {
      "cell_type": "markdown",
      "metadata": {
        "id": "lhUQPgSAvh_c"
      },
      "source": [
        "### CS 109A/STAT 121A/AC 209A/CSCI E-109A \n",
        "# Lab 1: The Python Numerical stack and EDA\n",
        "\n",
        "**Harvard University**<br>\n",
        "**Instructors: Pavlos Protopapas, Kevin Rader, Rahul Dave, Margo Levine**\n",
        "\n",
        "---"
      ]
    },
    {
      "cell_type": "markdown",
      "metadata": {
        "id": "dt2mJWQUvh_d"
      },
      "source": [
        "# Table of Contents \n",
        "\n",
        "<ol start=\"0\">\n",
        "<li> Learning Goals </li>\n",
        "<li> Functions </li>\n",
        "<li> Introduction to Numpy </li>\n",
        "<li> Introduction to Pandas </li>\n",
        "<li> Beginning Exploratory Data Analysis (EDA)</li>\n",
        "<li> Conclusions </li>\n",
        "</ol>"
      ]
    },
    {
      "cell_type": "markdown",
      "metadata": {
        "id": "PI8-zHBqvh_e"
      },
      "source": [
        "## Part 0: Learning Goals \n",
        "In this lab we pick up where we left off in lab 0, introducing functions and exploring numpy, a module which allows for mathematical manipulation of arrays.  We load a dataset first as a numpy array and then as a pandas dataframe, and begin exploratory data analysis (EDA). \n",
        "\n",
        "By the end of this lab, you will be able to:\n",
        "\n",
        "- Write user-defined functions to perform repetitive tasks.\n",
        "- Create and manipulate one-dimensional and two-dimensional numpy arrays, and pandas series and dataframes.\n",
        "- Describe how to index and \"type\" Pandas Series and Dataframes.\n",
        "- Create histograms and scatter plots for basic exploratory data analysis"
      ]
    },
    {
      "cell_type": "markdown",
      "metadata": {
        "id": "znv8Nh2Hvh_e"
      },
      "source": [
        "We first import the necessary libraries.  Besides the numpy and matplotlib libraries that we saw in lab 0, we also import pandas and seaborn, which will be discussed in more detail in this lab."
      ]
    },
    {
      "cell_type": "code",
      "execution_count": null,
      "metadata": {
        "collapsed": true,
        "id": "w5SqUdjtvh_e"
      },
      "outputs": [],
      "source": [
        "# Prepares iPython notebook for working with matplotlib\n",
        "%matplotlib inline \n",
        "\n",
        "import numpy as np # imports a fast numerical programming library\n",
        "import matplotlib.pyplot as plt #sets up plotting under plt\n",
        "import pandas as pd #lets us handle data as dataframes\n",
        "\n",
        "#sets up pandas table display\n",
        "pd.set_option('display.width', 500)\n",
        "pd.set_option('display.max_columns', 100)\n",
        "pd.set_option('display.notebook_repr_html', True)\n",
        "\n",
        "import seaborn as sns #sets up styles and gives us more plotting options"
      ]
    },
    {
      "cell_type": "markdown",
      "metadata": {
        "id": "J-iXGbbsvh_f"
      },
      "source": [
        "## Part 1: Functions\n",
        "\n",
        "A *function* object is a reusable block of code that does a specific task.  Functions are all over Python, either on their own or on other objects.  To invoke a function `func`, you call it as `func(arguments)`.\n",
        "\n",
        "We've seen built-in Python functions and methods.  For example, `len` and `print` are built-in Python functions.  And at the beginning of Lab 0, you called `np.mean` to calculate the mean of three numbers, where `mean` is a function in the numpy module and numpy was abbreviated as `np`. This syntax allow us to have multiple \"mean\" functions in different modules; calling this one as `np.mean` guarantees that we will pick up numpy's mean function, as opposed to a mean function from a different module.\n",
        "\n",
        "### Methods\n",
        "A function that belongs to an object is called a *method*. An example of this is `append` on an existing list. In other words, a *method* is a function on an *instance* of a type of object (also called *class*, in this case, list type)."
      ]
    },
    {
      "cell_type": "code",
      "execution_count": 2,
      "metadata": {
        "id": "wunYjbLcvh_f",
        "colab": {
          "base_uri": "https://localhost:8080/"
        },
        "outputId": "b0bddde0-c4e4-4a39-bf2c-cb4a8dc95aec"
      },
      "outputs": [
        {
          "output_type": "execute_result",
          "data": {
            "text/plain": [
              "3.0"
            ]
          },
          "metadata": {},
          "execution_count": 2
        }
      ],
      "source": [
        "import numpy as np # imports a fast numerical programming library\n",
        "np.mean([1, 2, 3, 4, 5])"
      ]
    },
    {
      "cell_type": "code",
      "execution_count": null,
      "metadata": {
        "id": "kh66TDYNvh_f"
      },
      "outputs": [],
      "source": [
        "float_list = [1.0, 2.09, 4.0, 2.0, 0.444]\n",
        "print(float_list)\n",
        "float_list.append(56.7) \n",
        "float_list"
      ]
    },
    {
      "cell_type": "markdown",
      "metadata": {
        "id": "To7vWtPwvh_f"
      },
      "source": [
        "### User-defined functions\n",
        "\n",
        "We'll now learn to write our own user-defined functions.  Below is the syntax for defining a basic function with one input argument and one output. You can also define functions with no input or output arguments, or multiple input or output arguments.\n",
        "\n",
        "```\n",
        "def name_of_function(arg):\n",
        "    ...\n",
        "    return(output)\n",
        "```\n",
        "\n",
        "We can write functions with one input and one output argument.  Here are two such functions."
      ]
    },
    {
      "cell_type": "code",
      "execution_count": null,
      "metadata": {
        "id": "x_78QzREvh_g"
      },
      "outputs": [],
      "source": [
        "def square(x):\n",
        "    x_sqr = x*x\n",
        "    return(x_sqr)\n",
        "\n",
        "def cube(x):\n",
        "    x_cub = x*x*x\n",
        "    return(x_cub)\n",
        "\n",
        "square(5),cube(5)"
      ]
    },
    {
      "cell_type": "markdown",
      "metadata": {
        "id": "dG4s58vfvh_g"
      },
      "source": [
        "What if you want to return two variables at a time? The usual way is to return a tuple:"
      ]
    },
    {
      "cell_type": "code",
      "execution_count": null,
      "metadata": {
        "id": "GVJ6ffwgvh_g"
      },
      "outputs": [],
      "source": [
        "def square_and_cube(x):\n",
        "    x_cub = x*x*x\n",
        "    x_sqr = x*x\n",
        "    return(x_sqr, x_cub)\n",
        "\n",
        "square_and_cube(5)"
      ]
    },
    {
      "cell_type": "markdown",
      "metadata": {
        "id": "e7poklxEvh_g"
      },
      "source": [
        "### Lambda functions\n",
        "\n",
        "Often we quickly define mathematical functions with a one-line function called a *lambda* function.  Lambda functions are great because they enable us to write functions without having to name them, ie, they're *anonymous*.  \n",
        "No return statement is needed. \n"
      ]
    },
    {
      "cell_type": "code",
      "execution_count": 8,
      "metadata": {
        "id": "I8luSek6vh_g",
        "colab": {
          "base_uri": "https://localhost:8080/"
        },
        "outputId": "495a3586-15cd-4b2a-91de-a98393fd5f55"
      },
      "outputs": [
        {
          "output_type": "stream",
          "name": "stdout",
          "text": [
            "36\n",
            "25\n"
          ]
        }
      ],
      "source": [
        "square = lambda x: x*x\n",
        "\n",
        "hypotenuse = lambda x, y: x*x + y*y\n",
        "\n",
        "## Same as\n",
        "\n",
        "# def hypotenuse(x, y):\n",
        "#     return(x*x + y*y)\n",
        "\n",
        "print(hypotenuse(3,4))"
      ]
    },
    {
      "cell_type": "markdown",
      "metadata": {
        "id": "2YS9LIJnvh_g"
      },
      "source": [
        "### *Refactoring* using functions\n",
        "In an exercise from Lab 0, you wrote code that generated a list of the prime numbers between 1 and 100.  For the excercise below, it may help to revisit that code.\n",
        "\n",
        ">**EXERCISE**: Write a function called `isprime` that takes in a positive integer $N$, and determines whether or not it is prime.  Return the $N$ if it's prime and return nothing if it isn't.  \n",
        "\n",
        "> Then, using a list comprehension and `isprime`, create a list `myprimes` that contains all the prime numbers less than 100.  "
      ]
    },
    {
      "cell_type": "code",
      "execution_count": 15,
      "metadata": {
        "id": "R_w4gj8Lvh_g",
        "colab": {
          "base_uri": "https://localhost:8080/"
        },
        "outputId": "9058083b-331f-4521-afb3-2e208ea6c57c"
      },
      "outputs": [
        {
          "output_type": "stream",
          "name": "stdout",
          "text": [
            "[2, 3, 5, 7, 11, 13, 17, 19, 23, 29, 31, 37, 41, 43, 47, 53, 59, 61, 67, 71, 73, 79, 83, 89, 97]\n"
          ]
        }
      ],
      "source": [
        "import math\n",
        "def isprime(N):\n",
        "    sq = int(math.sqrt(N)) + 1\n",
        "    for i in range (2,sq):\n",
        "        if(N%i==0):\n",
        "            return None\n",
        "    return N\n",
        "\n",
        "primes = []\n",
        "for i in range (2,101):\n",
        "     if(isprime(i) != None):\n",
        "        primes.append(i)\n",
        "\n",
        "print(primes)"
      ]
    },
    {
      "cell_type": "markdown",
      "metadata": {
        "id": "KsRGk2Zdvh_g"
      },
      "source": [
        "What you just did is a *refactoring* of the algorithm you used in lab 0 to find primes smaller than 100. The current implementation is much cleaner, since  `isprime`  contains the main functionality of the algorithm and can thus be *re-used* as needed.  You should aim to write code like this, where the often-repeated algorithms are written as a reuseable function.\n"
      ]
    },
    {
      "cell_type": "markdown",
      "metadata": {
        "id": "QdnOW6euvh_h"
      },
      "source": [
        "### Default Arguments\n",
        "\n",
        "Functions may also have *default* argument values.  Functions with default values are used extensively in many libraries.  The default values are assigned when the function is defined."
      ]
    },
    {
      "cell_type": "code",
      "execution_count": null,
      "metadata": {
        "id": "xF6omHkcvh_h",
        "outputId": "d22962b4-9e7d-431f-8dcc-faca15507ffa"
      },
      "outputs": [
        {
          "name": "stdout",
          "output_type": "stream",
          "text": [
            "With x and y: (10, 2, 20)\n",
            "With x only: (10, 1, 10)\n"
          ]
        }
      ],
      "source": [
        "# This function can be called with x and y, in which case it will return x*y;\n",
        "# or it can be called with x only, in which case it will return x*1.\n",
        "def get_multiple(x, y=1):\n",
        "    return x, y, x*y\n",
        "\n",
        "print(\"With x and y:\", get_multiple(10, 2))\n",
        "print(\"With x only:\", get_multiple(10))"
      ]
    },
    {
      "cell_type": "markdown",
      "metadata": {
        "id": "AWGyFpR0vh_h"
      },
      "source": [
        "Note that you can use the name of the argument in functions, but you must either use all the names, or get the position of the argument correct in the function call:"
      ]
    },
    {
      "cell_type": "code",
      "execution_count": null,
      "metadata": {
        "id": "J5ZzKoXGvh_h"
      },
      "outputs": [],
      "source": [
        "get_multiple(x=3), get_multiple(x=3, y=4)"
      ]
    },
    {
      "cell_type": "code",
      "execution_count": null,
      "metadata": {
        "id": "SKEkKHEkvh_h",
        "outputId": "357177dd-825f-4a87-c2a0-50b0ea2194f0"
      },
      "outputs": [
        {
          "data": {
            "text/plain": [
              "((3, 4, 12), (3, 4, 12))"
            ]
          },
          "execution_count": 17,
          "metadata": {},
          "output_type": "execute_result"
        }
      ],
      "source": [
        "get_multiple(y=4, x=3), get_multiple(3, y=4)"
      ]
    },
    {
      "cell_type": "code",
      "execution_count": null,
      "metadata": {
        "id": "DHSH_lQpvh_h",
        "outputId": "6496aa9f-3940-4547-ace9-121208c7e60f"
      },
      "outputs": [
        {
          "ename": "SyntaxError",
          "evalue": "positional argument follows keyword argument (1510813849.py, line 1)",
          "output_type": "error",
          "traceback": [
            "\u001b[1;36m  Cell \u001b[1;32mIn [1], line 1\u001b[1;36m\u001b[0m\n\u001b[1;33m    get_multiple(y=4, 3)\u001b[0m\n\u001b[1;37m                       ^\u001b[0m\n\u001b[1;31mSyntaxError\u001b[0m\u001b[1;31m:\u001b[0m positional argument follows keyword argument\n"
          ]
        }
      ],
      "source": [
        "get_multiple(y=4, 3)"
      ]
    },
    {
      "cell_type": "markdown",
      "metadata": {
        "id": "qj60BEA_vh_h"
      },
      "source": [
        "The above error is due to the improper ordering of the *positional* and *keyword* arguments.  For a discussion of this, please refer back to the section on functions in lab 0."
      ]
    },
    {
      "cell_type": "markdown",
      "metadata": {
        "id": "Qffxa393vh_i"
      },
      "source": [
        "## Part 2: Introduction to Numpy\n",
        "Scientific Python code uses a fast array structure, called the numpy array. Those who have worked in Matlab will find this very natural.   For reference, the numpy documention can be found [here](https://docs.scipy.org/doc/numpy/reference/).  \n",
        "\n",
        "Let's make a numpy array."
      ]
    },
    {
      "cell_type": "code",
      "execution_count": null,
      "metadata": {
        "id": "FlvQhdoRvh_i",
        "outputId": "25db42a2-d980-4942-fa6e-f77193e7f82f"
      },
      "outputs": [
        {
          "data": {
            "text/plain": [
              "array([1, 2, 3, 4])"
            ]
          },
          "execution_count": 19,
          "metadata": {},
          "output_type": "execute_result"
        }
      ],
      "source": [
        "import numpy as np\n",
        "my_array = np.array([1, 2, 3, 4])\n",
        "my_array"
      ]
    },
    {
      "cell_type": "markdown",
      "metadata": {
        "id": "TGig1PQPvh_i"
      },
      "source": [
        "Numpy arrays are listy! Below we compute length, slice, and iterate. "
      ]
    },
    {
      "cell_type": "code",
      "execution_count": null,
      "metadata": {
        "id": "mCAVtMeJvh_i",
        "outputId": "50aea356-e014-45ed-c982-acc171b5fef4"
      },
      "outputs": [
        {
          "name": "stdout",
          "output_type": "stream",
          "text": [
            "4\n",
            "[3 4]\n",
            "1\n",
            "2\n",
            "3\n",
            "4\n"
          ]
        }
      ],
      "source": [
        "print(len(my_array))\n",
        "print(my_array[2:4])\n",
        "for ele in my_array:\n",
        "    print(ele)"
      ]
    },
    {
      "cell_type": "markdown",
      "metadata": {
        "id": "FHXhbih_vh_i"
      },
      "source": [
        "**In general you should manipulate numpy arrays by using numpy module functions** (`np.mean`, for example). This is for efficiency purposes, and a discussion follows below this section.\n",
        "\n",
        "You can calculate the mean of the array elements either by calling the method `.mean` on a numpy array or by applying the function np.mean with the numpy array as an argument."
      ]
    },
    {
      "cell_type": "code",
      "execution_count": null,
      "metadata": {
        "id": "YfOVxa8-vh_i",
        "outputId": "99b3a703-edf3-4abb-c061-0d518b2820dd"
      },
      "outputs": [
        {
          "name": "stdout",
          "output_type": "stream",
          "text": [
            "2.5\n",
            "2.5\n"
          ]
        }
      ],
      "source": [
        "print(my_array.mean())\n",
        "print(np.mean(my_array))"
      ]
    },
    {
      "cell_type": "markdown",
      "metadata": {
        "id": "TEDEwMa1vh_i"
      },
      "source": [
        "The way we constructed the numpy array above seems redundant..after all we already had a regular python list. Indeed, it is the other ways we have to construct numpy arrays that make them super useful. \n",
        "\n",
        "There are many such numpy array *constructors*. Here are some commonly used constructors. Look them up in the documentation."
      ]
    },
    {
      "cell_type": "code",
      "execution_count": null,
      "metadata": {
        "id": "TYnuOvHAvh_i",
        "outputId": "b9e94f48-181a-4ed5-d932-deef6f98be8f"
      },
      "outputs": [
        {
          "data": {
            "text/plain": [
              "array([1., 1., 1., 1., 1., 1., 1., 1., 1., 1.])"
            ]
          },
          "execution_count": 22,
          "metadata": {},
          "output_type": "execute_result"
        }
      ],
      "source": [
        "np.ones(10) # generates 10 floating point ones"
      ]
    },
    {
      "cell_type": "markdown",
      "metadata": {
        "id": "cDPMOtxyvh_i"
      },
      "source": [
        "Numpy gains a lot of its efficiency from being typed. That is, all elements in the array have the same type, such as integer or floating point. The default type, as can be seen above, is a float of size appropriate for the machine (64 bit on a 64 bit machine)."
      ]
    },
    {
      "cell_type": "code",
      "execution_count": null,
      "metadata": {
        "id": "AsMUeqxivh_i",
        "outputId": "4ada4e37-94e0-4c6e-8afa-a912d3446a0a"
      },
      "outputs": [
        {
          "data": {
            "text/plain": [
              "8"
            ]
          },
          "execution_count": 23,
          "metadata": {},
          "output_type": "execute_result"
        }
      ],
      "source": [
        "np.dtype(float).itemsize # in bytes"
      ]
    },
    {
      "cell_type": "code",
      "execution_count": null,
      "metadata": {
        "id": "Ixg0ji_svh_i",
        "outputId": "116a085f-223f-4fb8-f0f3-fbf270b61297"
      },
      "outputs": [
        {
          "data": {
            "text/plain": [
              "array([1, 1, 1, 1, 1, 1, 1, 1, 1, 1])"
            ]
          },
          "execution_count": 24,
          "metadata": {},
          "output_type": "execute_result"
        }
      ],
      "source": [
        "np.ones(10, dtype='int') # generates 10 integer ones"
      ]
    },
    {
      "cell_type": "code",
      "execution_count": null,
      "metadata": {
        "id": "YOxsN3gPvh_j",
        "outputId": "ae2636fa-eb5d-4f1c-83fb-0e75ff073062"
      },
      "outputs": [
        {
          "data": {
            "text/plain": [
              "array([0., 0., 0., 0., 0., 0., 0., 0., 0., 0.])"
            ]
          },
          "execution_count": 25,
          "metadata": {},
          "output_type": "execute_result"
        }
      ],
      "source": [
        "np.zeros(10)"
      ]
    },
    {
      "cell_type": "markdown",
      "metadata": {
        "id": "pRnQWXa4vh_j"
      },
      "source": [
        "Often you will want random numbers. Use the `random` constructor!"
      ]
    },
    {
      "cell_type": "code",
      "execution_count": null,
      "metadata": {
        "id": "8MKt8mQrvh_j",
        "outputId": "bd5ac99b-22b9-4789-8b1c-fa4e89dc0264"
      },
      "outputs": [
        {
          "data": {
            "text/plain": [
              "array([0.29252313, 0.83238353, 0.13574873, 0.7096727 , 0.11946776,\n",
              "       0.58962438, 0.867597  , 0.59541783, 0.49269927, 0.71870372])"
            ]
          },
          "execution_count": 26,
          "metadata": {},
          "output_type": "execute_result"
        }
      ],
      "source": [
        "np.random.random(10) # uniform on [0,1]"
      ]
    },
    {
      "cell_type": "markdown",
      "metadata": {
        "id": "dM1ri1x9vh_j"
      },
      "source": [
        "You can generate random numbers from a normal distribution with mean 0 and variance 1:"
      ]
    },
    {
      "cell_type": "code",
      "execution_count": 16,
      "metadata": {
        "id": "je7zej-mvh_j",
        "colab": {
          "base_uri": "https://localhost:8080/"
        },
        "outputId": "000350d3-4621-41d1-cc6a-140628768fbf"
      },
      "outputs": [
        {
          "output_type": "stream",
          "name": "stdout",
          "text": [
            "The sample mean and standard devation are 0.002438 and 1.047934, respectively.\n"
          ]
        }
      ],
      "source": [
        "normal_array = np.random.randn(1000)\n",
        "print(\"The sample mean and standard devation are %f and %f, respectively.\" %(np.mean(normal_array), np.std(normal_array)))"
      ]
    },
    {
      "cell_type": "markdown",
      "metadata": {
        "id": "gk_zFxsQvh_j"
      },
      "source": [
        "#### Numpy supports vector operations\n",
        "\n",
        "What does this mean? It means that instead of adding two arrays, element by element, you can just say: add the two arrays. Note that this behavior is very different from python lists."
      ]
    },
    {
      "cell_type": "code",
      "execution_count": null,
      "metadata": {
        "id": "0JXWojggvh_j",
        "outputId": "a9973f56-4f5c-4d53-95f0-7b56d625b3cd"
      },
      "outputs": [
        {
          "data": {
            "text/plain": [
              "array([2., 2., 2., 2., 2.])"
            ]
          },
          "execution_count": 28,
          "metadata": {},
          "output_type": "execute_result"
        }
      ],
      "source": [
        "first = np.ones(5)\n",
        "second = np.ones(5)\n",
        "first + second"
      ]
    },
    {
      "cell_type": "code",
      "execution_count": null,
      "metadata": {
        "id": "lgfhulRVvh_j",
        "outputId": "6ad1abf6-370a-45a6-96c5-24ae45a1934d"
      },
      "outputs": [
        {
          "data": {
            "text/plain": [
              "[1.0, 1.0, 1.0, 1.0, 1.0, 1.0, 1.0, 1.0, 1.0, 1.0]"
            ]
          },
          "execution_count": 29,
          "metadata": {},
          "output_type": "execute_result"
        }
      ],
      "source": [
        "first_list = [1., 1., 1., 1., 1.]\n",
        "second_list = [1., 1., 1., 1., 1.]\n",
        "first_list + second_list #not what u want"
      ]
    },
    {
      "cell_type": "markdown",
      "metadata": {
        "id": "UaICHQZbvh_j"
      },
      "source": [
        "On some computer chips this addition actually happens in parallel, so speedups can be high. But even on regular chips, the advantage of greater readability is important."
      ]
    },
    {
      "cell_type": "markdown",
      "metadata": {
        "id": "LidQts9Yvh_j"
      },
      "source": [
        "Numpy supports a concept known as *broadcasting*, which dictates how arrays of different sizes are combined together. There are too many rules to list here, but importantly, multiplying an array by a number multiplies each element by the number. Adding a number adds the number to each element."
      ]
    },
    {
      "cell_type": "code",
      "execution_count": null,
      "metadata": {
        "id": "JOMCWyYevh_k",
        "outputId": "be8d2911-c759-4b8b-c63f-bdedf6a7f610"
      },
      "outputs": [
        {
          "data": {
            "text/plain": [
              "array([2., 2., 2., 2., 2.])"
            ]
          },
          "execution_count": 30,
          "metadata": {},
          "output_type": "execute_result"
        }
      ],
      "source": [
        "first + 1"
      ]
    },
    {
      "cell_type": "code",
      "execution_count": null,
      "metadata": {
        "id": "rqpXlRNgvh_k",
        "outputId": "4907b649-6296-4bb3-fac8-372a8037bae7"
      },
      "outputs": [
        {
          "data": {
            "text/plain": [
              "array([5., 5., 5., 5., 5.])"
            ]
          },
          "execution_count": 31,
          "metadata": {},
          "output_type": "execute_result"
        }
      ],
      "source": [
        "first*5"
      ]
    },
    {
      "cell_type": "markdown",
      "metadata": {
        "id": "mtO6pYk6vh_k"
      },
      "source": [
        "This means that if you wanted the distribution $N(5, 7)$ you could do:"
      ]
    },
    {
      "cell_type": "code",
      "execution_count": null,
      "metadata": {
        "id": "_It5ccuYvh_k",
        "outputId": "5a15add7-1d4a-4fba-f248-40a35e3a4947"
      },
      "outputs": [
        {
          "data": {
            "text/plain": [
              "(4.958508737225622, 6.889814646425713)"
            ]
          },
          "execution_count": 32,
          "metadata": {},
          "output_type": "execute_result"
        }
      ],
      "source": [
        "normal_5_7 = 5 + 7*normal_array\n",
        "np.mean(normal_5_7), np.std(normal_5_7)"
      ]
    },
    {
      "cell_type": "markdown",
      "metadata": {
        "id": "MLQWDPcAvh_k"
      },
      "source": [
        "### 2D arrays\n",
        "Similarly, we can create two-dimensional arrays."
      ]
    },
    {
      "cell_type": "code",
      "execution_count": null,
      "metadata": {
        "id": "G9R4AFRivh_k",
        "outputId": "5bf793b5-7c1e-4e3d-92de-ce7dee52662c"
      },
      "outputs": [
        {
          "name": "stdout",
          "output_type": "stream",
          "text": [
            "[[1. 1. 1. 1.]\n",
            " [1. 1. 1. 1.]\n",
            " [1. 1. 1. 1.]]\n",
            "[[1.00828955 1.0085884  0.99386899 0.99360714]\n",
            " [0.99518541 0.98867045 1.0071126  1.00066987]\n",
            " [0.99058912 1.00230855 0.99420024 0.97623204]]\n",
            "[[1. 0. 0.]\n",
            " [0. 1. 0.]\n",
            " [0. 0. 1.]]\n"
          ]
        }
      ],
      "source": [
        "my_array2d = np.array([ [1, 2, 3, 4], [5, 6, 7, 8], [9, 10, 11, 12] ])\n",
        "\n",
        "# 3 x 4 array of ones\n",
        "ones_2d = np.ones([3, 4])\n",
        "print(ones_2d)\n",
        "# 3 x 4 array of ones with random noise\n",
        "ones_noise = ones_2d + .01*np.random.randn(3, 4)\n",
        "print(ones_noise)\n",
        "# 3 x 3 identity matrix\n",
        "my_identity = np.eye(3)\n",
        "print(my_identity)"
      ]
    },
    {
      "cell_type": "markdown",
      "metadata": {
        "id": "45l_Zv7Hvh_k"
      },
      "source": [
        "Like lists, numpy arrays are 0-indexed.  Thus we can access the $n$th row and the $m$th column of a two-dimensional array with the indices $[n - 1, m - 1]$."
      ]
    },
    {
      "cell_type": "code",
      "execution_count": null,
      "metadata": {
        "id": "URQLlnhWvh_k",
        "outputId": "472dc774-9ea7-47c0-aa8c-4a3d5bf1591c"
      },
      "outputs": [
        {
          "name": "stdout",
          "output_type": "stream",
          "text": [
            "[[ 1  2  3  4]\n",
            " [ 5  6  7  8]\n",
            " [ 9 10 11 12]]\n"
          ]
        },
        {
          "data": {
            "text/plain": [
              "12"
            ]
          },
          "execution_count": 34,
          "metadata": {},
          "output_type": "execute_result"
        }
      ],
      "source": [
        "print(my_array2d)\n",
        "my_array2d[2, 3]"
      ]
    },
    {
      "cell_type": "markdown",
      "metadata": {
        "id": "ZD6Qpuy-vh_k"
      },
      "source": [
        "Numpy arrays are listy!  They have set length (array dimensions), can be sliced, and can be iterated over with loop.  Below is a schematic illustrating slicing two-dimensional arrays.  \n",
        "\n",
        " <img src=\"images/2dindex_v2.png\" alt=\"Drawing\" style=\"width: 500px;\"/>"
      ]
    },
    {
      "cell_type": "markdown",
      "metadata": {
        "id": "vZ92Wy3_vh_k"
      },
      "source": [
        "Earlier when we generated the one-dimensional arrays of ones and random numbers, we gave `ones` and `random`  the number of elements we wanted in the arrays. In two dimensions, we need to provide the shape of the array, ie, the number of rows and columns of the array."
      ]
    },
    {
      "cell_type": "code",
      "execution_count": null,
      "metadata": {
        "id": "z7uM1Ik2vh_k",
        "outputId": "aaec2a54-5666-4b85-fac1-c3f4a82c9a08"
      },
      "outputs": [
        {
          "data": {
            "text/plain": [
              "array([[1., 1., 1., 1.],\n",
              "       [1., 1., 1., 1.],\n",
              "       [1., 1., 1., 1.]])"
            ]
          },
          "execution_count": 35,
          "metadata": {},
          "output_type": "execute_result"
        }
      ],
      "source": [
        "onesarray = np.ones([3,4])\n",
        "onesarray"
      ]
    },
    {
      "cell_type": "markdown",
      "metadata": {
        "id": "8Um9kDBevh_l"
      },
      "source": [
        "You can transpose the array:"
      ]
    },
    {
      "cell_type": "code",
      "execution_count": null,
      "metadata": {
        "id": "slhxgDjDvh_l",
        "outputId": "7105a63a-0860-4290-f7a8-5328805ed69f"
      },
      "outputs": [
        {
          "data": {
            "text/plain": [
              "(3, 4)"
            ]
          },
          "execution_count": 36,
          "metadata": {},
          "output_type": "execute_result"
        }
      ],
      "source": [
        "onesarray.shape"
      ]
    },
    {
      "cell_type": "code",
      "execution_count": null,
      "metadata": {
        "id": "1IJSaM5rvh_l",
        "outputId": "b9786e10-0279-49f5-d750-ef60b3fb1e27"
      },
      "outputs": [
        {
          "data": {
            "text/plain": [
              "array([[1., 1., 1.],\n",
              "       [1., 1., 1.],\n",
              "       [1., 1., 1.],\n",
              "       [1., 1., 1.]])"
            ]
          },
          "execution_count": 37,
          "metadata": {},
          "output_type": "execute_result"
        }
      ],
      "source": [
        "onesarray.T"
      ]
    },
    {
      "cell_type": "code",
      "execution_count": null,
      "metadata": {
        "id": "r3jdMJABvh_l",
        "outputId": "85b92050-bcba-4396-c3e7-522dfa16da24"
      },
      "outputs": [
        {
          "data": {
            "text/plain": [
              "(4, 3)"
            ]
          },
          "execution_count": 38,
          "metadata": {},
          "output_type": "execute_result"
        }
      ],
      "source": [
        "onesarray.T.shape"
      ]
    },
    {
      "cell_type": "markdown",
      "metadata": {
        "id": "XRLW1sELvh_l"
      },
      "source": [
        "Matrix multiplication is accomplished by `np.dot`. The `*` operator will do element-wise multiplication."
      ]
    },
    {
      "cell_type": "code",
      "execution_count": null,
      "metadata": {
        "id": "yE49RRdKvh_l",
        "outputId": "fa52bfd8-b4cd-4d39-deb0-524cd8d1fcfb"
      },
      "outputs": [
        {
          "name": "stdout",
          "output_type": "stream",
          "text": [
            "[[4. 4. 4.]\n",
            " [4. 4. 4.]\n",
            " [4. 4. 4.]]\n"
          ]
        },
        {
          "data": {
            "text/plain": [
              "array([[3., 3., 3., 3.],\n",
              "       [3., 3., 3., 3.],\n",
              "       [3., 3., 3., 3.],\n",
              "       [3., 3., 3., 3.]])"
            ]
          },
          "execution_count": 39,
          "metadata": {},
          "output_type": "execute_result"
        }
      ],
      "source": [
        "print(np.dot(onesarray, onesarray.T)) # 3 x 3 matrix\n",
        "np.dot(onesarray.T, onesarray) # 4 x 4 matrix"
      ]
    },
    {
      "cell_type": "markdown",
      "metadata": {
        "id": "HunWHB4Svh_l"
      },
      "source": [
        "Numpy functions will by default work on the entire array:"
      ]
    },
    {
      "cell_type": "code",
      "execution_count": null,
      "metadata": {
        "id": "YjoKqaqmvh_l",
        "outputId": "c3c8d511-3776-4b8a-d332-8bba1df270e5"
      },
      "outputs": [
        {
          "data": {
            "text/plain": [
              "12.0"
            ]
          },
          "execution_count": 40,
          "metadata": {},
          "output_type": "execute_result"
        }
      ],
      "source": [
        "np.sum(onesarray)"
      ]
    },
    {
      "cell_type": "markdown",
      "metadata": {
        "id": "wP77ts1xvh_l"
      },
      "source": [
        "The axis 0 is the one going downwards (the $y$-axis, so to speak), whereas axis 1 is the one going across (the $x$-axis). You will often use functions such as `mean`, `sum`, with an axis."
      ]
    },
    {
      "cell_type": "code",
      "execution_count": null,
      "metadata": {
        "id": "3oqPowG2vh_l",
        "outputId": "6af2da8d-e3c2-4d0f-b6d0-debcb01cd49d"
      },
      "outputs": [
        {
          "data": {
            "text/plain": [
              "array([3., 3., 3., 3.])"
            ]
          },
          "execution_count": 41,
          "metadata": {},
          "output_type": "execute_result"
        }
      ],
      "source": [
        "np.sum(onesarray, axis=0)"
      ]
    },
    {
      "cell_type": "code",
      "execution_count": null,
      "metadata": {
        "id": "sE3XpGOnvh_l",
        "outputId": "223985cc-c9ae-45ae-bd9c-1d481a98d000"
      },
      "outputs": [
        {
          "data": {
            "text/plain": [
              "array([4., 4., 4.])"
            ]
          },
          "execution_count": 42,
          "metadata": {},
          "output_type": "execute_result"
        }
      ],
      "source": [
        "np.sum(onesarray, axis=1)"
      ]
    },
    {
      "cell_type": "markdown",
      "metadata": {
        "id": "JCgDq4LGvh_m"
      },
      "source": [
        "See the documentation to learn more about numpy functions as needed."
      ]
    },
    {
      "cell_type": "markdown",
      "metadata": {
        "id": "j9aEnltsvh_m"
      },
      "source": [
        ">**EXERCISE**: Verify that two-dimensional arrays are listy. Create a two-dimensional array and show that this array has set length (shape), can be sliced, and can be iterated through with a loop.  Your code should slice the array in at least two different ways, and your loop should print out the array entries."
      ]
    },
    {
      "cell_type": "code",
      "execution_count": 17,
      "metadata": {
        "id": "zzaqRoQbvh_m",
        "colab": {
          "base_uri": "https://localhost:8080/"
        },
        "outputId": "80ba9e64-089b-4e42-ca18-f3f6834f7666"
      },
      "outputs": [
        {
          "output_type": "stream",
          "name": "stdout",
          "text": [
            "shape of the array  (4, 3)\n",
            "\n",
            "print num using loop iteration\n",
            "1 2 3 \n",
            "4 5 6 \n",
            "7 8 9 \n",
            "-1 0 -3 \n",
            "\n",
            "printing first slice\n",
            "8 9 \n",
            "0 -3 \n",
            "\n",
            "printing second slice\n",
            "4 5 6 \n",
            "7 8 9 \n"
          ]
        }
      ],
      "source": [
        "import numpy as np\n",
        "\n",
        "def printarr(arr):\n",
        "    for row in arr:\n",
        "        for val in row:\n",
        "            print(val, end = \" \")\n",
        "        print(\"\")\n",
        "\n",
        "num = np.array([[1,2,3],[4,5,6],[7,8,9],[-1,0,-3]])\n",
        "print(\"shape of the array \",num.shape)\n",
        "\n",
        "print(\"\\nprint num using loop iteration\")\n",
        "printarr(num)\n",
        "\n",
        "firstslice = num[2:4, 1:3]\n",
        "print(\"\\nprinting first slice\")\n",
        "printarr(firstslice)\n",
        "\n",
        "secondslice = num[1:3, 0:3]\n",
        "print(\"\\nprinting second slice\")\n",
        "printarr(secondslice)"
      ]
    },
    {
      "cell_type": "markdown",
      "metadata": {
        "id": "wWNAUkK4vh_m"
      },
      "source": [
        "You should notice that access is row-by-row and one dimensional iteration gives a row. This is because `numpy` lays out memory row-wise.\n",
        "\n",
        " <img src=\"https://aaronbloomfield.github.io/pdr/slides/images/04-arrays-bigoh/2d-array-layout.png\" alt=\"Drawing\" style=\"width: 500px;\"/>\n",
        " \n",
        "(from https://aaronbloomfield.github.io)"
      ]
    },
    {
      "cell_type": "markdown",
      "metadata": {
        "id": "3mWO1pE3vh_m"
      },
      "source": [
        "An often seen idiom allocates a two-dimensional array, and then fills in one-dimensional arrays from some function:"
      ]
    },
    {
      "cell_type": "code",
      "execution_count": null,
      "metadata": {
        "id": "Hr082JYSvh_m",
        "outputId": "04b0d23c-1eae-4bdd-929e-e424c120a50c"
      },
      "outputs": [
        {
          "data": {
            "text/plain": [
              "array([[0., 0.],\n",
              "       [0., 0.],\n",
              "       [0., 0.],\n",
              "       [0., 0.],\n",
              "       [0., 0.]])"
            ]
          },
          "execution_count": 56,
          "metadata": {},
          "output_type": "execute_result"
        }
      ],
      "source": [
        "twod = np.zeros((5, 2))\n",
        "twod"
      ]
    },
    {
      "cell_type": "code",
      "execution_count": null,
      "metadata": {
        "id": "BQHC9wEavh_m",
        "outputId": "8d482068-4e7b-43f9-efeb-afa614f6a0f8"
      },
      "outputs": [
        {
          "data": {
            "text/plain": [
              "array([[0.28201131, 0.42679863],\n",
              "       [0.28000411, 0.13377621],\n",
              "       [0.27372389, 0.16142672],\n",
              "       [0.95653905, 0.93869334],\n",
              "       [0.62488974, 0.6101961 ]])"
            ]
          },
          "execution_count": 57,
          "metadata": {},
          "output_type": "execute_result"
        }
      ],
      "source": [
        "for i in range(twod.shape[0]):\n",
        "    twod[i, :] = np.random.random(2)\n",
        "twod"
      ]
    },
    {
      "cell_type": "markdown",
      "metadata": {
        "id": "IEVHDf3xvh_m"
      },
      "source": [
        "In this and many other cases, it may be faster to simply do:"
      ]
    },
    {
      "cell_type": "code",
      "execution_count": null,
      "metadata": {
        "id": "dmNJyvD5vh_m",
        "outputId": "f7bcc223-2169-49fc-f6f3-84c3babe4631"
      },
      "outputs": [
        {
          "data": {
            "text/plain": [
              "array([[0.49949946, 0.08011002],\n",
              "       [0.58204618, 0.28963175],\n",
              "       [0.53592501, 0.58606123],\n",
              "       [0.35843491, 0.26438673],\n",
              "       [0.14292774, 0.7994428 ]])"
            ]
          },
          "execution_count": 61,
          "metadata": {},
          "output_type": "execute_result"
        }
      ],
      "source": [
        "twod = np.random.random(size=(5,2))\n",
        "twod"
      ]
    },
    {
      "cell_type": "markdown",
      "metadata": {
        "id": "d8hwE96zvh_m"
      },
      "source": [
        "### Numpy Arrays vs. Python Lists?\n",
        "\n",
        "1. Why the need for numpy arrays?  Can't we just use Python lists?\n",
        "2. Iterating over numpy arrays is slow. Slicing is faster\n",
        "\n",
        "In the last lab we said that Python lists may contain items of different types. This flexibility comes at a price: Python lists store *pointers* to memory locations.  On the other hand, numpy arrays are typed, where the default type is floating point.  Because of this, the system knows how much memory to allocate, and if you ask for an array of size 100, it will allocate one hundred contiguous spots in memory, where the size of each spot is based on the type.  This makes access extremely fast.\n",
        "\n",
        "<img src=\"https://jakevdp.github.io/PythonDataScienceHandbook/figures/array_vs_list.png\" alt=\"Drawing\" style=\"width: 500px;\"/>\n",
        "\n",
        "(from the book below)\n",
        "\n",
        "BUT, iteration slows things down again. In general you should not access numpy array elements by iteration.  This is because of type conversion.  Numpy stores integers and floating points in C-language format.  When you operate on array elements through iteration, Python needs to convert that element to a Python int or float, which is a more complex beast (a `struct` in C jargon).  This has a cost.\n",
        "\n",
        "<img src=\"https://jakevdp.github.io/PythonDataScienceHandbook/figures/cint_vs_pyint.png\" alt=\"Drawing\" style=\"width: 500px;\"/>\n",
        "\n",
        "(from the book below)\n",
        "\n",
        "If you want to know more, we will suggest that you read [this]() from [Jake Vanderplas's Data Science Handbook](https://jakevdp.github.io/PythonDataScienceHandbook/). You will find that book an incredible resource for this class.\n",
        "\n",
        "Why is slicing faster? The reason is technical: slicing provides a view onto the memory occupied by a numpy array, instead of creating a new array. That is the reason the code above this cell works nicely as well. However, if you iterate over a slice, then you have gone back to the slow access.\n",
        "\n",
        "By contrast, functions such as `np.dot` are implemented at C-level, do not do this type conversion, and access contiguous memory. If you want this kind of access in Python, use the struct module or Cython. Indeed many fast algorithms in numpy, pandas, and C are either implemented at the C-level, or employ Cython."
      ]
    },
    {
      "cell_type": "markdown",
      "metadata": {
        "id": "scZOXCiGvh_m"
      },
      "source": [
        "## Part 3:  Introduction to Pandas \n",
        "\n",
        "Often data is stored in comma separated values (CSV) files.    For the remainder of this lab, we'll be working with [automobile data](https://stat.ethz.ch/R-manual/R-devel/library/datasets/html/mtcars.html), where we've extracted relevant parts below.\n",
        "\n",
        "Note that CSV files can be output by any spreadsheet software, and are plain text, hence are a great way to share data. "
      ]
    },
    {
      "cell_type": "markdown",
      "metadata": {
        "id": "aXqDxnhJvh_n"
      },
      "source": [
        "### Importing data with numpy\n",
        "Below we'll read in automobile data from a CSV file, storing the data in Python's memory first as a numpy array.  \n",
        "\n",
        "````` \n",
        "Description\n",
        "The data was extracted from the 1974 Motor Trend US magazine, and comprises fuel consumption and ten aspects of automobile design and performance for 32 automobiles (1973–74 models).\n",
        "\n",
        "Format\n",
        "\n",
        "A data frame with 32 observations on 11 variables.\n",
        "\n",
        "[, 1]\tmpg\t     Miles/(US) gallon\n",
        "[, 2]\tcyl\t     Number of cylinders\n",
        "[, 3]\tdisp\t Displacement (cu.in.)\n",
        "[, 4]\thp\t     Gross horsepower\n",
        "[, 5]\tdrat\t Rear axle ratio\n",
        "[, 6]\twt\t     Weight (1000 lbs)\n",
        "[, 7]\tqsec\t 1/4 mile time\n",
        "[, 8]\tvs\t     V/S\n",
        "[, 9]\tam\t     Transmission (0 = automatic, 1 = manual)\n",
        "[,10]\tgear\t Number of forward gears\n",
        "[,11]\tcarb\t Number of carburetors\n",
        "        \n",
        "Source\n",
        "Henderson and Velleman (1981), Building multiple regression models interactively. Biometrics, 37, 391–411.\n",
        "`````"
      ]
    },
    {
      "cell_type": "markdown",
      "metadata": {
        "id": "qS8bWI_bvh_n"
      },
      "source": [
        ">EXERCISE: `genfromtxt` is a numpy function that can be used to load text data.  Write code that loads the data into a two-dimensional array called `arrcars`, prints out the shape and the first two rows of of `arrcars`."
      ]
    },
    {
      "cell_type": "code",
      "execution_count": null,
      "metadata": {
        "id": "sli0L0VMvh_n"
      },
      "outputs": [],
      "source": [
        "import numpy as np\n",
        "import pandas as pd\n",
        "CSVtxt = open(\"mtcars.csv\")\n",
        "arrcars = np.genfromtxt(CSVtxt, dtype = str, delimiter=',')\n",
        "print(arrcars.shape)\n",
        "print(arrcars[0:2])"
      ]
    },
    {
      "cell_type": "markdown",
      "metadata": {
        "id": "mO1uEuQ8vh_n"
      },
      "source": [
        "You will see that reading the data into a numpy array is entirely clumsy.  "
      ]
    },
    {
      "cell_type": "markdown",
      "metadata": {
        "id": "-9_vphsjvh_n"
      },
      "source": [
        "\n",
        "We'd like a data structure that can represent the columns in the data above by their name. In particular, we want a structure that can easily store variables of different types, that stores column names, and that we can reference by column name as well as by indexed position.  And it would be nice this data structure came with built-in functions that we can use to manipulate it. \n",
        "\n",
        "Pandas is a package/library that does all of this!  The library is built on top of numpy.  There are two basic pandas objects, *series* and *dataframes*, which can be thought of as enhanced versions of 1D and 2D numpy arrays, respectively.  Indeed Pandas attempts to keep all the efficiencies that `numpy` gives us.\n",
        "\n",
        "For reference, here is a useful pandas [cheat sheet](https://drive.google.com/folderview?id=0ByIrJAE4KMTtaGhRcXkxNHhmY2M&usp=sharing) and the pandas [documentation](https://pandas.pydata.org/pandas-docs/stable/)."
      ]
    },
    {
      "cell_type": "markdown",
      "metadata": {
        "id": "OudZx0sVvh_n"
      },
      "source": [
        "### Importing data with pandas\n",
        "\n",
        "Now let's read in our automobile data as a pandas *dataframe* structure.  "
      ]
    },
    {
      "cell_type": "code",
      "execution_count": null,
      "metadata": {
        "id": "Ndfyy5Wcvh_n"
      },
      "outputs": [],
      "source": [
        "# Read in the csv files\n",
        "dfcars=pd.read_csv(\"data/mtcars.csv\")\n",
        "type(dfcars)"
      ]
    },
    {
      "cell_type": "code",
      "execution_count": null,
      "metadata": {
        "id": "_0AXMeeEvh_n"
      },
      "outputs": [],
      "source": [
        "dfcars.head()"
      ]
    },
    {
      "cell_type": "markdown",
      "metadata": {
        "id": "7sN9TzYNvh_n"
      },
      "source": [
        "Wow!  That was easier and the output is nicer.  What we have now is a spreadsheet with indexed rows and named columns, called a *dataframe* in pandas.  `dfcars` is an *instance* of the pd.DataFrame *class*, created by calling the pd.read_csv \"constructor function\".\n",
        "\n",
        "The take-away is that `dfcars` is a dataframe object, and it has methods (functions) belonging to it. For example, `df.head()` is a method that shows the first 5 rows of the dataframe.\n",
        "\n",
        "A pandas dataframe is a set of columns pasted together into a spreadsheet, as shown in the schematic below, which is taken from the cheatsheet above.  The columns in pandas are called *series* objects.\n",
        "\n",
        "![](images/pandastruct.png)"
      ]
    },
    {
      "cell_type": "markdown",
      "metadata": {
        "id": "hnV5hMQmvh_n"
      },
      "source": [
        "Let's look again at the first five rows of `dfcars`.  "
      ]
    },
    {
      "cell_type": "code",
      "execution_count": null,
      "metadata": {
        "id": "3jobUUupvh_n"
      },
      "outputs": [],
      "source": [
        "dfcars.head()"
      ]
    },
    {
      "cell_type": "markdown",
      "metadata": {
        "id": "QPFiJohVvh_n"
      },
      "source": [
        "Notice the poorly named first column: \"Unnamed: 0\". Why did that happen?\n",
        "\n",
        "The first column, which seems to be the name of the car, does not have a name. Here are the first 3 lines of the file:"
      ]
    },
    {
      "cell_type": "markdown",
      "metadata": {
        "id": "htt5TpO2vh_o"
      },
      "source": [
        "```    \n",
        "\"\",\"mpg\",\"cyl\",\"disp\",\"hp\",\"drat\",\"wt\",\"qsec\",\"vs\",\"am\",\"gear\",\"carb\"\n",
        "\"Mazda RX4\",21,6,160,110,3.9,2.62,16.46,0,1,4,4\n",
        "\"Mazda RX4 Wag\",21,6,160,110,3.9,2.875,17.02,0,1,4,4\n",
        "```\n",
        "\n",
        "Lets **clean** that up:"
      ]
    },
    {
      "cell_type": "code",
      "execution_count": null,
      "metadata": {
        "id": "Bv4pKoKJvh_o",
        "scrolled": false
      },
      "outputs": [],
      "source": [
        "dfcars = dfcars.rename(columns={\"Unnamed: 0\": \"name\"})\n",
        "dfcars.head()"
      ]
    },
    {
      "cell_type": "markdown",
      "metadata": {
        "id": "vtCSenRdvh_o"
      },
      "source": [
        "In the above, the argument `columns = {\"Unnamed: 0\": \"name\"}` of `rename` changed the name of the first column in the dataframe from `Unnamed: 0` to `name`. \n",
        "\n",
        "To access a *series* (column), you can use either dictionary syntax or instance-variable syntax."
      ]
    },
    {
      "cell_type": "code",
      "execution_count": null,
      "metadata": {
        "id": "TKHBb7F4vh_o"
      },
      "outputs": [],
      "source": [
        "dfcars.mpg"
      ]
    },
    {
      "cell_type": "markdown",
      "metadata": {
        "id": "FNbI8D5kvh_o"
      },
      "source": [
        "You can get a numpy array of values from the Pandas Series:"
      ]
    },
    {
      "cell_type": "code",
      "execution_count": null,
      "metadata": {
        "id": "dfWzRKQvvh_o"
      },
      "outputs": [],
      "source": [
        "dfcars.mpg.values"
      ]
    },
    {
      "cell_type": "markdown",
      "metadata": {
        "id": "OoGcifaHvh_o"
      },
      "source": [
        "And we can produce a histogram from these values"
      ]
    },
    {
      "cell_type": "code",
      "execution_count": null,
      "metadata": {
        "collapsed": true,
        "id": "lyaNcpmbvh_o"
      },
      "outputs": [],
      "source": [
        "#documentation for plt.hist\n",
        "?plt.hist"
      ]
    },
    {
      "cell_type": "code",
      "execution_count": null,
      "metadata": {
        "id": "sivA5VRXvh_o"
      },
      "outputs": [],
      "source": [
        "plt.hist(dfcars.mpg.values, bins=20);\n",
        "plt.xlabel(\"mpg\");\n",
        "plt.ylabel(\"Frequency\")\n",
        "plt.title(\"Miles per Gallon\");"
      ]
    },
    {
      "cell_type": "markdown",
      "metadata": {
        "id": "oKwpbbY8vh_o"
      },
      "source": [
        "But pandas is very cool: you can get a histogram directly:"
      ]
    },
    {
      "cell_type": "code",
      "execution_count": null,
      "metadata": {
        "id": "JJ_0-A6wvh_o"
      },
      "outputs": [],
      "source": [
        "dfcars.mpg.hist(bins=20);\n",
        "plt.xlabel(\"mpg\");\n",
        "plt.ylabel(\"Frequency\")\n",
        "plt.title(\"Miles per Gallon\");"
      ]
    },
    {
      "cell_type": "markdown",
      "metadata": {
        "id": "Rczeyib6vh_o"
      },
      "source": [
        "Pandas supports a dictionary like access to columns. This is very useful when column names have spaces: Python variables cannot have spaces in them."
      ]
    },
    {
      "cell_type": "code",
      "execution_count": null,
      "metadata": {
        "id": "6QalhZ2Hvh_p"
      },
      "outputs": [],
      "source": [
        "dfcars['mpg']"
      ]
    },
    {
      "cell_type": "markdown",
      "metadata": {
        "id": "ZGEU3CKUvh_p"
      },
      "source": [
        "\n",
        "We can also get sub-dataframes by choosing a set of series. We  pass a list of the columns we want as \"dictionary keys\" to the dataframe.  "
      ]
    },
    {
      "cell_type": "code",
      "execution_count": null,
      "metadata": {
        "id": "ZzOg2Gwcvh_p"
      },
      "outputs": [],
      "source": [
        "dfcars[['am', 'mpg']]"
      ]
    },
    {
      "cell_type": "markdown",
      "metadata": {
        "id": "0g1K3H-Bvh_p"
      },
      "source": [
        "As we'll see, more complex indexing is also possible, using listiness."
      ]
    },
    {
      "cell_type": "markdown",
      "metadata": {
        "id": "jFAqfquLvh_p"
      },
      "source": [
        "### Dataframes and Series"
      ]
    },
    {
      "cell_type": "markdown",
      "metadata": {
        "id": "OfFyKJ9Xvh_p"
      },
      "source": [
        "Now that we have our automobile data loaded as a dataframe, we'd like to be able to manipulate it, its series, and its sub-dataframes, say by calculating statistics and plotting distributions of features.  Like arrays and other containers, dataframes and series are listy, so we can apply the list operations we already know to these new containers.  Below we explore our dataframe and its properties, in the context of listiness."
      ]
    },
    {
      "cell_type": "markdown",
      "metadata": {
        "id": "h4FauERHvh_p"
      },
      "source": [
        "**bold text**#### Listiness property 1: set length\n",
        "\n",
        " The attribute `shape` tells us the dimension of the dataframe, the number of rows and columns in the dataframe, `(rows, columns)`.  Somewhat strangely, but fairly usefully, (which is why the developers of Pandas probably did it ) the `len` function outputs the number of rows in the dataframe, not the number of columns as we'd expect based on how dataframes are built up from pandas series (columns).  "
      ]
    },
    {
      "cell_type": "code",
      "execution_count": null,
      "metadata": {
        "id": "5Ce9lmWzvh_p",
        "scrolled": true
      },
      "outputs": [],
      "source": [
        "print(dfcars.shape)     # 12 columns, each of length 32\n",
        "print(len(dfcars))      # the number of rows in the dataframe, also the length of a series\n",
        "print(len(dfcars.mpg))  # the length of a series"
      ]
    },
    {
      "cell_type": "markdown",
      "metadata": {
        "id": "wWfDGy-Dvh_p"
      },
      "source": [
        "#### Listiness property 2: iteration via loops\n",
        "\n",
        " One consequence of the column-wise construction of dataframes is that you cannot easily iterate over the rows of the dataframe.  Instead, we iterate over the columns, for example, by printing out the column names via a for loop.  "
      ]
    },
    {
      "cell_type": "code",
      "execution_count": null,
      "metadata": {
        "id": "Nj0aPFlrvh_p"
      },
      "outputs": [],
      "source": [
        "for ele in dfcars: # iterating iterates over column names though, like a dictionary\n",
        "    print(ele)"
      ]
    },
    {
      "cell_type": "markdown",
      "metadata": {
        "id": "yxRrnxKsvh_p"
      },
      "source": [
        "Or we can call the attribute `columns`.  Notice the `Index` in the output below. We'll return to this shortly. "
      ]
    },
    {
      "cell_type": "code",
      "execution_count": null,
      "metadata": {
        "id": "6qbjELnZvh_p"
      },
      "outputs": [],
      "source": [
        "dfcars.columns"
      ]
    },
    {
      "cell_type": "markdown",
      "metadata": {
        "id": "mILr3vkYvh_p"
      },
      "source": [
        "We can iterate series in the same way that we iterate lists. Here we print out the number of cylinders for each of the 32 vehicles. \n",
        "\n",
        "BUT for the same reason as not iterating over numpy arrays, DON'T DO THIS."
      ]
    },
    {
      "cell_type": "code",
      "execution_count": null,
      "metadata": {
        "id": "I3nG_zJEvh_q"
      },
      "outputs": [],
      "source": [
        "for ele in dfcars.cyl:\n",
        "    print(ele)"
      ]
    },
    {
      "cell_type": "markdown",
      "metadata": {
        "id": "0SeNvuzUvh_q"
      },
      "source": [
        "How do you iterate over rows?  Dataframes are put together column-by-column and you should be able to write code which never requires iteration over loops. But if you still find a need to iterate over rows, you can do it using `itertuples`.  See the documentation.  \n",
        "\n",
        "**In general direct iteration through pandas series/dataframes (and numpy arrays) is a bad idea**, because of the reasons in the earlier \"Python Lists vs. Numpy Arrays\" section. \n",
        "\n",
        "Instead, you should manipulate dataframes and series with pandas methods which are written to be very fast (ie, they access series and dataframes at the C level). Similarly numpy arrays should be accessed directly through numpy methods."
      ]
    },
    {
      "cell_type": "markdown",
      "metadata": {
        "id": "3Rqp5SYqvh_q"
      },
      "source": [
        "#### Listiness property 3: slice\n",
        "\n",
        "Let's see how indexing works in dataframes.  Like lists in Python and arrays in numpy, dataframes and series are zero-indexed."
      ]
    },
    {
      "cell_type": "code",
      "execution_count": null,
      "metadata": {
        "id": "tBxHuKR1vh_q"
      },
      "outputs": [],
      "source": [
        "dfcars.head()"
      ]
    },
    {
      "cell_type": "code",
      "execution_count": null,
      "metadata": {
        "id": "1dOYFFi0vh_q"
      },
      "outputs": [],
      "source": [
        "# index for the dataframe\n",
        "print(list(dfcars.index))\n",
        "# index for the cyl series\n",
        "dfcars.cyl.index"
      ]
    },
    {
      "cell_type": "markdown",
      "metadata": {
        "id": "x24zlpYtvh_q"
      },
      "source": [
        "There are two ways to index dataframes. The `loc` property indexes by label name, while `iloc` indexes by position in the index.  We'll illustrate this with a slightly modified version of `dfcars`, created by relabeling the row indices of `dfcars` to start at 5 instead of 0.  "
      ]
    },
    {
      "cell_type": "code",
      "execution_count": null,
      "metadata": {
        "id": "j4KWh1s0vh_q"
      },
      "outputs": [],
      "source": [
        "# create values from 5 to 36\n",
        "new_index = np.arange(5, 37)\n",
        "# new dataframe with indexed rows from 5 to 36\n",
        "dfcars_reindex = dfcars.reindex(new_index)\n",
        "dfcars_reindex.head()"
      ]
    },
    {
      "cell_type": "markdown",
      "metadata": {
        "id": "1PEiMBTFvh_q"
      },
      "source": [
        "We now return the first three rows of `dfcars_reindex` in two different ways, first with `iloc` and then with `loc`.  With `iloc` we use the command"
      ]
    },
    {
      "cell_type": "code",
      "execution_count": null,
      "metadata": {
        "id": "a-sQGdcyvh_q"
      },
      "outputs": [],
      "source": [
        "dfcars_reindex.iloc[0:3]"
      ]
    },
    {
      "cell_type": "markdown",
      "metadata": {
        "id": "BjoSV7Y5vh_q"
      },
      "source": [
        "since `iloc` uses the position in the index.  Notice that the argument 0:3 with `iloc` returns the first three rows of the dataframe, which have label names 5, 6, and 7.  To access the same rows with `loc`, we write"
      ]
    },
    {
      "cell_type": "code",
      "execution_count": null,
      "metadata": {
        "id": "pzNqlspGvh_q"
      },
      "outputs": [],
      "source": [
        "dfcars_reindex.loc[0:7] # or dfcars_reindex.loc[5:7]"
      ]
    },
    {
      "cell_type": "markdown",
      "metadata": {
        "id": "57okxEvVvh_q"
      },
      "source": [
        "since `loc` indexes via the label name.  \n",
        "\n",
        "Here's another example where we return three rows of `dfcars_reindex` that correspond to column attributes `mpg`, `cyl`, and `disp`.  First do it with `iloc`:"
      ]
    },
    {
      "cell_type": "code",
      "execution_count": null,
      "metadata": {
        "id": "1J58MoD1vh_r"
      },
      "outputs": [],
      "source": [
        "dfcars_reindex.iloc[2:5, 1:4]"
      ]
    },
    {
      "cell_type": "markdown",
      "metadata": {
        "id": "s2VPUQltvh_r"
      },
      "source": [
        "Notice that rows we're accessing, 2, 3, and 4, have label names 7, 8, and 9, and the columns we're accessing, 1, 2, and 3, have label names `mpg`, `cyl`, and `disp`.  So for both rows and columns, we're accessing elements of the dataframe using the integer position indices.  Now let's do it with `loc`:"
      ]
    },
    {
      "cell_type": "code",
      "execution_count": null,
      "metadata": {
        "id": "rbgetvt5vh_r"
      },
      "outputs": [],
      "source": [
        "dfcars_reindex.loc[7:9, ['mpg', 'cyl', 'disp']]"
      ]
    },
    {
      "cell_type": "markdown",
      "metadata": {
        "id": "NOrYSOtNvh_r"
      },
      "source": [
        "We don't have to remember that `disp` is the third column of the dataframe the way we did when the data was stored as a numpy array -- we can simply access it with `loc` using the label name `disp`. \n",
        "\n",
        "Generally we prefer `iloc` for indexing rows and `loc` for indexing columns. "
      ]
    },
    {
      "cell_type": "markdown",
      "metadata": {
        "id": "hn2mBtThvh_r"
      },
      "source": [
        ">**EXERCISE**: In this exercise you'll examine the documentation to generate a toy dataframe from scratch.  Go to the documentation and click on \"10 minutes to pandas\" in the table of contents.  Then do the following:\n",
        "\n",
        ">1.  Create a series called `column_1` with entries 0, 1, 2, 3.\n",
        "\n",
        ">2.  Create a second series called `column_2` with entries 4, 5, 6, 7.\n",
        "\n",
        ">3.  Glue these series into a dataframe called `table`, where the first and second labelled column of the dataframe are `column_1` and `column_2`, respectively.  In the dataframe, `column_1` should be indexed as `col_1` and `column_2` should be indexed as `col_2`.\n",
        "\n",
        "> Oops!  You've changed your mind about the index labels for the columns.  Use `rename` to rename `col_1` as `Col_1` and `col_2` as `Col_2`.  \n",
        "\n",
        "> *Stretch*: Can you figure out how to rename the row indexes?  Try to rename `0` as `zero`, `1` as `one`, and so on.\n"
      ]
    },
    {
      "cell_type": "code",
      "execution_count": 21,
      "metadata": {
        "id": "pmsseHU6vh_r",
        "colab": {
          "base_uri": "https://localhost:8080/",
          "height": 175
        },
        "outputId": "f75ac97b-4793-42ad-c4f8-c3b16780ca9c"
      },
      "outputs": [
        {
          "output_type": "execute_result",
          "data": {
            "text/plain": [
              "       Col_1  Col_2\n",
              "zero       0      4\n",
              "one        1      5\n",
              "two        2      6\n",
              "three      3      7"
            ],
            "text/html": [
              "\n",
              "  <div id=\"df-08e95840-7689-4717-aca9-c4d436a83f56\">\n",
              "    <div class=\"colab-df-container\">\n",
              "      <div>\n",
              "<style scoped>\n",
              "    .dataframe tbody tr th:only-of-type {\n",
              "        vertical-align: middle;\n",
              "    }\n",
              "\n",
              "    .dataframe tbody tr th {\n",
              "        vertical-align: top;\n",
              "    }\n",
              "\n",
              "    .dataframe thead th {\n",
              "        text-align: right;\n",
              "    }\n",
              "</style>\n",
              "<table border=\"1\" class=\"dataframe\">\n",
              "  <thead>\n",
              "    <tr style=\"text-align: right;\">\n",
              "      <th></th>\n",
              "      <th>Col_1</th>\n",
              "      <th>Col_2</th>\n",
              "    </tr>\n",
              "  </thead>\n",
              "  <tbody>\n",
              "    <tr>\n",
              "      <th>zero</th>\n",
              "      <td>0</td>\n",
              "      <td>4</td>\n",
              "    </tr>\n",
              "    <tr>\n",
              "      <th>one</th>\n",
              "      <td>1</td>\n",
              "      <td>5</td>\n",
              "    </tr>\n",
              "    <tr>\n",
              "      <th>two</th>\n",
              "      <td>2</td>\n",
              "      <td>6</td>\n",
              "    </tr>\n",
              "    <tr>\n",
              "      <th>three</th>\n",
              "      <td>3</td>\n",
              "      <td>7</td>\n",
              "    </tr>\n",
              "  </tbody>\n",
              "</table>\n",
              "</div>\n",
              "      <button class=\"colab-df-convert\" onclick=\"convertToInteractive('df-08e95840-7689-4717-aca9-c4d436a83f56')\"\n",
              "              title=\"Convert this dataframe to an interactive table.\"\n",
              "              style=\"display:none;\">\n",
              "        \n",
              "  <svg xmlns=\"http://www.w3.org/2000/svg\" height=\"24px\"viewBox=\"0 0 24 24\"\n",
              "       width=\"24px\">\n",
              "    <path d=\"M0 0h24v24H0V0z\" fill=\"none\"/>\n",
              "    <path d=\"M18.56 5.44l.94 2.06.94-2.06 2.06-.94-2.06-.94-.94-2.06-.94 2.06-2.06.94zm-11 1L8.5 8.5l.94-2.06 2.06-.94-2.06-.94L8.5 2.5l-.94 2.06-2.06.94zm10 10l.94 2.06.94-2.06 2.06-.94-2.06-.94-.94-2.06-.94 2.06-2.06.94z\"/><path d=\"M17.41 7.96l-1.37-1.37c-.4-.4-.92-.59-1.43-.59-.52 0-1.04.2-1.43.59L10.3 9.45l-7.72 7.72c-.78.78-.78 2.05 0 2.83L4 21.41c.39.39.9.59 1.41.59.51 0 1.02-.2 1.41-.59l7.78-7.78 2.81-2.81c.8-.78.8-2.07 0-2.86zM5.41 20L4 18.59l7.72-7.72 1.47 1.35L5.41 20z\"/>\n",
              "  </svg>\n",
              "      </button>\n",
              "      \n",
              "  <style>\n",
              "    .colab-df-container {\n",
              "      display:flex;\n",
              "      flex-wrap:wrap;\n",
              "      gap: 12px;\n",
              "    }\n",
              "\n",
              "    .colab-df-convert {\n",
              "      background-color: #E8F0FE;\n",
              "      border: none;\n",
              "      border-radius: 50%;\n",
              "      cursor: pointer;\n",
              "      display: none;\n",
              "      fill: #1967D2;\n",
              "      height: 32px;\n",
              "      padding: 0 0 0 0;\n",
              "      width: 32px;\n",
              "    }\n",
              "\n",
              "    .colab-df-convert:hover {\n",
              "      background-color: #E2EBFA;\n",
              "      box-shadow: 0px 1px 2px rgba(60, 64, 67, 0.3), 0px 1px 3px 1px rgba(60, 64, 67, 0.15);\n",
              "      fill: #174EA6;\n",
              "    }\n",
              "\n",
              "    [theme=dark] .colab-df-convert {\n",
              "      background-color: #3B4455;\n",
              "      fill: #D2E3FC;\n",
              "    }\n",
              "\n",
              "    [theme=dark] .colab-df-convert:hover {\n",
              "      background-color: #434B5C;\n",
              "      box-shadow: 0px 1px 3px 1px rgba(0, 0, 0, 0.15);\n",
              "      filter: drop-shadow(0px 1px 2px rgba(0, 0, 0, 0.3));\n",
              "      fill: #FFFFFF;\n",
              "    }\n",
              "  </style>\n",
              "\n",
              "      <script>\n",
              "        const buttonEl =\n",
              "          document.querySelector('#df-08e95840-7689-4717-aca9-c4d436a83f56 button.colab-df-convert');\n",
              "        buttonEl.style.display =\n",
              "          google.colab.kernel.accessAllowed ? 'block' : 'none';\n",
              "\n",
              "        async function convertToInteractive(key) {\n",
              "          const element = document.querySelector('#df-08e95840-7689-4717-aca9-c4d436a83f56');\n",
              "          const dataTable =\n",
              "            await google.colab.kernel.invokeFunction('convertToInteractive',\n",
              "                                                     [key], {});\n",
              "          if (!dataTable) return;\n",
              "\n",
              "          const docLinkHtml = 'Like what you see? Visit the ' +\n",
              "            '<a target=\"_blank\" href=https://colab.research.google.com/notebooks/data_table.ipynb>data table notebook</a>'\n",
              "            + ' to learn more about interactive tables.';\n",
              "          element.innerHTML = '';\n",
              "          dataTable['output_type'] = 'display_data';\n",
              "          await google.colab.output.renderOutput(dataTable, element);\n",
              "          const docLink = document.createElement('div');\n",
              "          docLink.innerHTML = docLinkHtml;\n",
              "          element.appendChild(docLink);\n",
              "        }\n",
              "      </script>\n",
              "    </div>\n",
              "  </div>\n",
              "  "
            ]
          },
          "metadata": {},
          "execution_count": 21
        }
      ],
      "source": [
        "import pandas as pd\n",
        "column_1 = pd.Series([0,1,2,3])\n",
        "column_2 = pd.Series([4,5,6,7])\n",
        "table = pd.DataFrame({\n",
        "    'col_1': column_1,\n",
        "    'col_2': column_2,\n",
        "})\n",
        "table.rename(columns = {'col_1' : 'Col_1', 'col_2' : 'Col_2'}, index = {0 : 'zero', 1 : 'one', 2 : 'two', 3 : 'three'})"
      ]
    },
    {
      "cell_type": "markdown",
      "metadata": {
        "id": "aC0WESq2vh_r"
      },
      "source": [
        "Picking rows is an idiom you probably wont use very often: there are better ways to do this which we will explore in lecture, such as grouping and querying. Picking columns can often be done by passing a list as a dictionary key.\n",
        "\n",
        "The place where `loc` and `iloc` are very useful are where you want to change particular rows. We'll see examples of this in lecture."
      ]
    },
    {
      "cell_type": "markdown",
      "metadata": {
        "id": "drl0cxfOvh_r"
      },
      "source": [
        "### Data Types\n",
        "\n",
        "Columns in a dataframe (series) come with their own types. Some data may be categorical, that is, they come  with only few well defined values. An example is cylinders  (`cyl`). Cars may be 4, 6, or 8 cylindered. There is a ordered interpretation to this  (8 cylinders more powerful engine than 6 cylinders) but also a one-of-three-types interpretation to this. \n",
        "\n",
        "Sometimes categorical data does not have an ordered interpretation. An example is `am`: a boolean variable which indicates whether the car is an automatic or not.\n",
        "\n",
        "Other column types are integer, floating-point, and `object`. The latter is a catch-all for a string or anything Pandas cannot infer, for example, a column that contains data of mixed types. \n",
        " \n",
        "Let's see the types of the columns:"
      ]
    },
    {
      "cell_type": "code",
      "execution_count": null,
      "metadata": {
        "id": "wgRDFwA2vh_r"
      },
      "outputs": [],
      "source": [
        "dfcars.dtypes"
      ]
    },
    {
      "cell_type": "markdown",
      "metadata": {
        "id": "X7uGxO1Qvh_r"
      },
      "source": [
        "As we'll see in lab 2, the `dtypes` attribute is useful for debugging.  If one of these columns is not the type you expect, it can point to missing or malformed values that you should investigate further. Pandas assigns these types by inspection of some of the values,  and if the types are missed it will make assign it as an `object`, like the `name` column. Consider for example:"
      ]
    },
    {
      "cell_type": "code",
      "execution_count": null,
      "metadata": {
        "id": "op1JVLWivh_r"
      },
      "outputs": [],
      "source": [
        "diff_values = ['a', 1, 2, 3]\n",
        "diff_series = pd.Series(diff_values)\n",
        "print(diff_series)\n",
        "diff_series.dtypes # object because type inference fails"
      ]
    },
    {
      "cell_type": "code",
      "execution_count": null,
      "metadata": {
        "id": "rZW5705Uvh_r"
      },
      "outputs": [],
      "source": [
        "diff_series.values # you destroyed performance, numpy starts to act like a python list"
      ]
    },
    {
      "cell_type": "code",
      "execution_count": null,
      "metadata": {
        "id": "WF04qwh1vh_s"
      },
      "outputs": [],
      "source": [
        "same_values = [2, 3, 4]\n",
        "same_series = pd.Series(same_values)\n",
        "print(same_series)\n",
        "same_series.dtypes # correctly infers ints"
      ]
    },
    {
      "cell_type": "code",
      "execution_count": null,
      "metadata": {
        "id": "i2xLPgO-vh_s"
      },
      "outputs": [],
      "source": [
        "same_series.head()"
      ]
    },
    {
      "cell_type": "markdown",
      "metadata": {
        "id": "vNMfpb0xvh_s"
      },
      "source": [
        "### *Aside: Pandas and memory*\n",
        "\n",
        "Notice that we did above:\n",
        "\n",
        "`dfcars=dfcars.rename(columns={\"Unnamed: 0\": \"name\"})`\n",
        "\n",
        "In other words we bound the same name `dfcars` to the result of the `rename` method.\n",
        "\n",
        "The `rename` operation  creates a new dataframe. This is an example of \"functional programming\" where we always create new objects from functions, rather than changing old ones. After doing this, we just renamed the new dataframe with the old name  `dfcars`. This is because variables in Python are just post-its, labels, or *bindings*: they are just aliases for a piece of memory.  The `rename` method on dataframes creates a new dataframe, and we rebind the variable `dfcars` to point to this new piece of memory. What about the old piece of memory `dfcars` pointed to? Its now  bindingless and will be destroyed by Python's garbage collector. This is how Python manages memory on your computer.\n",
        "\n",
        "This is the recommended style of Python programming unless you have very limited memory on your computer. Don't create a `dfcars2` dataframe.\n",
        "\n",
        "But you might, quite rightly argue, what if the dataframe is huge and you have very limited memory? For this reason, almost all Pandas methods have a `inplace=True` option, see the `rename` docs for example.  You can then say:\n",
        "\n",
        "```\n",
        "dfcars.rename(columns={\"Unnamed: 0\":\"name\"}, inplace=True)\n",
        "```\n",
        "\n",
        "Now the old dataframe is changed in place.\n",
        "\n",
        "That being said, don't do this if at all possible.  While it takes less memory (and thus you might sometimes need to do it), structures in place needs careful ordering and tracking of operations.  And, as human beings, we tend to be fallible.\n",
        "\n",
        "(Even in big-data programs like Hadoop and Spark, new objects are created. Why?  In these cases you are typically working on multiple machines.  What if one goes down while an operation is happening? You then at least have all of the old dataframe parts on all the machines, rather than some parts having changed. This is the advantage of functional programming using \"immutable\" data structures.)"
      ]
    },
    {
      "cell_type": "markdown",
      "metadata": {
        "collapsed": true,
        "id": "b1fbr3mSvh_s"
      },
      "source": [
        "## Part 4:  Exploratory Data Analysis (EDA) - Global Properties\n",
        "\n",
        "Below is a basic checklist for the early stages of exploratory data analysis in Python. While not universally applicable, the rubric covers patterns which recur in several data analysis contexts, so useful to keep it in mind when encountering a new dataset.\n",
        "\n",
        "The basic workflow (enunciated in this form by Chris Beaumont, the first Head TF of cs109 ever) is as follows:\n",
        "\n",
        "1. **Build** a DataFrame from the data (ideally, put all data in this object)\n",
        "2. **Clean** the DataFrame. It should have the following properties:\n",
        "    - Each row describes a single object\n",
        "    - Each column describes a property of that object\n",
        "    - Columns are numeric whenever appropriate\n",
        "    - Columns contain atomic properties that cannot be further decomposed\n",
        "    \n",
        "3. Explore **global properties**. Use histograms, scatter plots, and aggregation functions to summarize the data.\n",
        "4. Explore **group properties**. Use groupby and small multiples to compare subsets of the data.\n",
        "\n",
        "This process transforms the data into a format which is easier to work with, gives you a basic overview of the data's properties, and likely generates several questions for you to follow-up on in subsequent analysis.\n",
        "\n",
        "So far we have **built** the dataframe from automobile data, and carried out very minimal **cleaning** (renaming) in this dataframe.  We'll now visualize global  properties of our dataset.  We illustrate the concepts using `mpg`.  A similar analysis should be done for all the data columns, as this may help identify interesting properties and even errors in the dataset.  **Group** properties will be discussed later in Monday's lecture."
      ]
    },
    {
      "cell_type": "markdown",
      "metadata": {
        "id": "gJzwTaaUvh_s"
      },
      "source": [
        "### Histograms\n",
        "A histogram shows the frequency distribution of a dataset.  Below is the distribution of `mpg`.  The `.hist` method of a pandas series plots the distribution, and the seaborn package sets the global `matplotlib` plotting context.  Here, we've used `notebook`, which makes reasonable sized graphics in seaborn's default color palette.  "
      ]
    },
    {
      "cell_type": "code",
      "execution_count": null,
      "metadata": {
        "collapsed": true,
        "id": "GspxPDkFvh_s"
      },
      "outputs": [],
      "source": [
        "import matplotlib.pyplot as plt #sets up plotting under plt\n",
        "import seaborn as sns #sets up styles and gives us more plotting options"
      ]
    },
    {
      "cell_type": "code",
      "execution_count": null,
      "metadata": {
        "id": "2cgWbkX8vh_s"
      },
      "outputs": [],
      "source": [
        "sns.set_context(\"notebook\")\n",
        "dfcars.mpg.plot.hist()  \n",
        "plt.xlabel(\"mpg\");"
      ]
    },
    {
      "cell_type": "markdown",
      "metadata": {
        "id": "rJYJytq5vh_s"
      },
      "source": [
        "We could have made the same histogram with `matplotlib` using the `hist` function.   We can use `matplotlib` on a pandas series or any other listy container which we might do, for example, if a certain type of plot is not yet supported by pandas.  Below we use `matplotlib`  `hist`, set the seaborn context to `poster` to create a larger graphic, add axes labels and titles, and change the number of bins from the default.  "
      ]
    },
    {
      "cell_type": "code",
      "execution_count": null,
      "metadata": {
        "id": "gZp3oCOHvh_s",
        "outputId": "abde79ab-b7e7-4126-c21f-b5b61335da13"
      },
      "outputs": [
        {
          "ename": "NameError",
          "evalue": "name 'dfcars' is not defined",
          "output_type": "error",
          "traceback": [
            "\u001b[1;31m---------------------------------------------------------------------------\u001b[0m",
            "\u001b[1;31mNameError\u001b[0m                                 Traceback (most recent call last)",
            "Cell \u001b[1;32mIn [5], line 2\u001b[0m\n\u001b[0;32m      1\u001b[0m sns\u001b[39m.\u001b[39mset_context(\u001b[39m\"\u001b[39m\u001b[39mposter\u001b[39m\u001b[39m\"\u001b[39m)\n\u001b[1;32m----> 2\u001b[0m plt\u001b[39m.\u001b[39mhist(dfcars\u001b[39m.\u001b[39mmpg, bins\u001b[39m=\u001b[39m\u001b[39m20\u001b[39m);\n\u001b[0;32m      3\u001b[0m plt\u001b[39m.\u001b[39mxlabel(\u001b[39m\"\u001b[39m\u001b[39mmpg\u001b[39m\u001b[39m\"\u001b[39m);\n\u001b[0;32m      4\u001b[0m plt\u001b[39m.\u001b[39mylabel(\u001b[39m\"\u001b[39m\u001b[39mFrequency\u001b[39m\u001b[39m\"\u001b[39m)\n",
            "\u001b[1;31mNameError\u001b[0m: name 'dfcars' is not defined"
          ]
        }
      ],
      "source": [
        "sns.set_context(\"poster\")\n",
        "plt.hist(dfcars.mpg, bins=20);\n",
        "plt.xlabel(\"mpg\");\n",
        "plt.ylabel(\"Frequency\")\n",
        "plt.title(\"Miles per Gallon\");"
      ]
    },
    {
      "cell_type": "markdown",
      "metadata": {
        "id": "wXqONqfQvh_s"
      },
      "source": [
        "Check out the documentation for even more options!"
      ]
    },
    {
      "cell_type": "markdown",
      "metadata": {
        "id": "-9lN_pYAvh_s"
      },
      "source": [
        ">**EXERCISE**: Plot the distribution of the rear axle ratio (`drat`).  Label the axes accordingly and give the plot a title.    Calculate the mean of the distribution, and, if you like, draw a line on the figure showing the location of the mean (see the documentation for `axvline`).\n"
      ]
    },
    {
      "cell_type": "code",
      "execution_count": null,
      "metadata": {
        "id": "FQC-2cXbvh_t"
      },
      "outputs": [],
      "source": [
        "import numpy as np\n",
        "import matplotlib.pyplot as plt\n",
        "\n",
        "sns.set_context(\"poster\")\n",
        "plt.plot(dfcars.drat);\n",
        "plt.xlabel(\"drat\");\n",
        "plt.ylabel(\"Frequency\")\n",
        "print(np.mean(np.array(dfcars.drat)))"
      ]
    },
    {
      "cell_type": "markdown",
      "metadata": {
        "id": "zQ_G2qn5vh_t"
      },
      "source": [
        "### Scatter plots\n",
        "We often want to see co-variation among our columns, for example, miles/gallon versus weight.  This can be done with a scatter plot. "
      ]
    },
    {
      "cell_type": "code",
      "execution_count": null,
      "metadata": {
        "id": "k-XZG9pTvh_t",
        "outputId": "b5cd6f35-92a1-40db-cec2-a43ca2420baa"
      },
      "outputs": [
        {
          "ename": "NameError",
          "evalue": "name 'dfcars' is not defined",
          "output_type": "error",
          "traceback": [
            "\u001b[1;31m---------------------------------------------------------------------------\u001b[0m",
            "\u001b[1;31mNameError\u001b[0m                                 Traceback (most recent call last)",
            "Cell \u001b[1;32mIn [6], line 2\u001b[0m\n\u001b[0;32m      1\u001b[0m sns\u001b[39m.\u001b[39mset_context(\u001b[39m\"\u001b[39m\u001b[39mnotebook\u001b[39m\u001b[39m\"\u001b[39m)\n\u001b[1;32m----> 2\u001b[0m plt\u001b[39m.\u001b[39mscatter(dfcars\u001b[39m.\u001b[39mwt, dfcars\u001b[39m.\u001b[39mmpg);\n\u001b[0;32m      3\u001b[0m plt\u001b[39m.\u001b[39mxlabel(\u001b[39m\"\u001b[39m\u001b[39mweight\u001b[39m\u001b[39m\"\u001b[39m);\n\u001b[0;32m      4\u001b[0m plt\u001b[39m.\u001b[39mylabel(\u001b[39m\"\u001b[39m\u001b[39mmiles per gallon\u001b[39m\u001b[39m\"\u001b[39m)\n",
            "\u001b[1;31mNameError\u001b[0m: name 'dfcars' is not defined"
          ]
        }
      ],
      "source": [
        "sns.set_context(\"notebook\")\n",
        "plt.scatter(dfcars.wt, dfcars.mpg);\n",
        "plt.xlabel(\"weight\");\n",
        "plt.ylabel(\"miles per gallon\");"
      ]
    },
    {
      "cell_type": "markdown",
      "metadata": {
        "id": "Izf286VUvh_t"
      },
      "source": [
        "You could have used `plot` instead of `scatter`.  Let's look at the `plot` documentation."
      ]
    },
    {
      "cell_type": "code",
      "execution_count": null,
      "metadata": {
        "collapsed": true,
        "id": "KTcISxlxvh_t"
      },
      "outputs": [],
      "source": [
        "# look at the .plot documentation\n",
        "plt.plot?"
      ]
    },
    {
      "cell_type": "markdown",
      "metadata": {
        "id": "wLA13KS8vh_t"
      },
      "source": [
        "And plot the data as dots."
      ]
    },
    {
      "cell_type": "code",
      "execution_count": null,
      "metadata": {
        "id": "WIE224O0vh_t"
      },
      "outputs": [],
      "source": [
        "plt.plot(dfcars.wt, dfcars.mpg, 'o');\n",
        "plt.xlabel(\"weight\");\n",
        "plt.ylabel(\"miles per gallon\");"
      ]
    },
    {
      "cell_type": "markdown",
      "metadata": {
        "id": "36Kzudzavh_t"
      },
      "source": [
        "Usually we use `plt.show()` at the end of every plot to display the plot. Our magical incantation `%matplotlib inline` takes care of this for us, and we don't have to do it in the Jupyter notebook. But if you run your Python program from a file, you will need to explicitly have a call to show. We include it for completion."
      ]
    },
    {
      "cell_type": "code",
      "execution_count": null,
      "metadata": {
        "id": "wR_-f9mKvh_t"
      },
      "outputs": [],
      "source": [
        "plt.plot(dfcars.wt, dfcars.mpg, 'ko')  #black dots\n",
        "plt.xlabel(\"weight\");\n",
        "plt.ylabel(\"miles per gallon\");\n",
        "plt.show()"
      ]
    },
    {
      "cell_type": "markdown",
      "metadata": {
        "id": "MUepXUT5vh_t"
      },
      "source": [
        "Suppose we'd like to save a figure to a file.  We do this by including the `savefig` command in the same cell as the plotting commands.  The file extension tells you how the file will be saved. "
      ]
    },
    {
      "cell_type": "code",
      "execution_count": null,
      "metadata": {
        "id": "56RpmdStvh_t"
      },
      "outputs": [],
      "source": [
        "plt.plot(dfcars.wt, dfcars.mpg, 'o')\n",
        "plt.xlabel(\"weight\");\n",
        "plt.ylabel(\"miles per gallon\");\n",
        "plt.savefig('images/foo1.pdf')\n",
        "plt.savefig('images/foo2.png', bbox_inches='tight') #less whitespace around image"
      ]
    },
    {
      "cell_type": "markdown",
      "metadata": {
        "id": "_qV0u_GDvh_t"
      },
      "source": [
        "And this is what the saved png looks like. Code in Markdown to show this is:\n",
        "\n",
        "`![](images/foo2.png)`\n",
        "\n",
        "![](images/foo2.png)"
      ]
    },
    {
      "cell_type": "markdown",
      "metadata": {
        "id": "MEzqJfgWvh_u"
      },
      "source": [
        "Finally, look what happens if we plot the data as dots connected by a line.  We get a useless soup!"
      ]
    },
    {
      "cell_type": "code",
      "execution_count": null,
      "metadata": {
        "id": "UF6Y2PoHvh_u"
      },
      "outputs": [],
      "source": [
        "plt.plot(dfcars.wt, dfcars.mpg, 'o-')  \n",
        "plt.xlabel(\"weight\");\n",
        "plt.ylabel(\"miles per gallon\");\n",
        "plt.show()"
      ]
    },
    {
      "cell_type": "markdown",
      "metadata": {
        "id": "UA-_8tnBvh_u"
      },
      "source": [
        "To fix this problem, we make a new dataframe with the columns of interest, sort it based on the x-value (`wt` in this case), and plot the sorted data."
      ]
    },
    {
      "cell_type": "code",
      "execution_count": null,
      "metadata": {
        "id": "MvdaZkmFvh_u"
      },
      "outputs": [],
      "source": [
        "sub_dfcars = dfcars[['wt', 'mpg']]\n",
        "df_temp = sub_dfcars.sort_values('wt')\n",
        "plt.plot(df_temp.wt, df_temp.mpg, 'o-');\n",
        "plt.xlabel(\"weight\");\n",
        "plt.ylabel(\"miles per gallon\");\n",
        "plt.show()"
      ]
    },
    {
      "cell_type": "markdown",
      "metadata": {
        "id": "TnCUSGnqvh_u"
      },
      "source": [
        "Below is a summary of the most commonly used `matplotlib` plotting routines.\n",
        "\n",
        "![](images/mpl1.png)"
      ]
    },
    {
      "cell_type": "markdown",
      "metadata": {
        "id": "Hafmj2xtvh_u"
      },
      "source": [
        ">**EXERCISE**: Create a scatter plot showing the co-variation between two columns of your choice.  Label the axes.  See if you can do this *without* copying and pasting code from earlier in the lab.  What can you conclude, if anything, from your scatter plot?"
      ]
    },
    {
      "cell_type": "code",
      "execution_count": 22,
      "metadata": {
        "id": "f7ZonfFuvh_u",
        "colab": {
          "base_uri": "https://localhost:8080/",
          "height": 235
        },
        "outputId": "80695a34-0474-460e-bdc4-ca8a552e7382"
      },
      "outputs": [
        {
          "output_type": "error",
          "ename": "NameError",
          "evalue": "ignored",
          "traceback": [
            "\u001b[0;31m---------------------------------------------------------------------------\u001b[0m",
            "\u001b[0;31mNameError\u001b[0m                                 Traceback (most recent call last)",
            "\u001b[0;32m<ipython-input-22-f925a3d6ebe1>\u001b[0m in \u001b[0;36m<module>\u001b[0;34m\u001b[0m\n\u001b[0;32m----> 1\u001b[0;31m \u001b[0mdfcars\u001b[0m\u001b[0;34m.\u001b[0m\u001b[0mhead\u001b[0m\u001b[0;34m(\u001b[0m\u001b[0;34m)\u001b[0m\u001b[0;34m\u001b[0m\u001b[0;34m\u001b[0m\u001b[0m\n\u001b[0m\u001b[1;32m      2\u001b[0m \u001b[0;34m\u001b[0m\u001b[0m\n\u001b[1;32m      3\u001b[0m \u001b[0mhpp\u001b[0m \u001b[0;34m=\u001b[0m \u001b[0mdfcars\u001b[0m\u001b[0;34m.\u001b[0m\u001b[0mhp\u001b[0m\u001b[0;34m\u001b[0m\u001b[0;34m\u001b[0m\u001b[0m\n\u001b[1;32m      4\u001b[0m \u001b[0mdis\u001b[0m \u001b[0;34m=\u001b[0m \u001b[0mdfcars\u001b[0m\u001b[0;34m.\u001b[0m\u001b[0mdisp\u001b[0m\u001b[0;34m\u001b[0m\u001b[0;34m\u001b[0m\u001b[0m\n\u001b[1;32m      5\u001b[0m \u001b[0mplt\u001b[0m\u001b[0;34m.\u001b[0m\u001b[0mplot\u001b[0m\u001b[0;34m(\u001b[0m\u001b[0mdis\u001b[0m\u001b[0;34m,\u001b[0m \u001b[0mhpp\u001b[0m\u001b[0;34m,\u001b[0m \u001b[0;34m'ko'\u001b[0m\u001b[0;34m)\u001b[0m\u001b[0;34m\u001b[0m\u001b[0;34m\u001b[0m\u001b[0m\n",
            "\u001b[0;31mNameError\u001b[0m: name 'dfcars' is not defined"
          ]
        }
      ],
      "source": [
        "dfcars.head()\n",
        "\n",
        "hpp = dfcars.hp\n",
        "dis = dfcars.disp\n",
        "plt.plot(dis, hpp, 'ko')\n",
        "plt.xlabel('Disp')\n",
        "plt.ylabel('Hp')\n",
        "plt.show()"
      ]
    },
    {
      "cell_type": "markdown",
      "metadata": {
        "id": "z7Fc4Dkevh_u"
      },
      "source": [
        "## Part 5: Conclusions"
      ]
    },
    {
      "cell_type": "markdown",
      "metadata": {
        "collapsed": true,
        "id": "eL7ytjlhvh_u"
      },
      "source": [
        "In this lab we introduced functions, the numpy and pandas libraries, and beginning EDA through histograms and scatter polots.  We've tried to consolidate the information as much as possible, so have necessarily left out other topics of interest.  For more practice exercises (with solutions) and discussion, see this [page](http://www.practicepython.org).  Some of these exercises are particularly relevant.  Check them out!\n",
        "\n",
        "Don't forget to look up [Jake's book](https://jakevdp.github.io/PythonDataScienceHandbook/).\n",
        "\n",
        "Finally, we would like to suggest using [Chris Albon's web site](https://chrisalbon.com) as a reference. Lots of useful information there."
      ]
    }
  ],
  "metadata": {
    "anaconda-cloud": {},
    "colab": {
      "collapsed_sections": [
        "MLQWDPcAvh_k",
        "d8hwE96zvh_m",
        "3Rqp5SYqvh_q",
        "vNMfpb0xvh_s",
        "gJzwTaaUvh_s"
      ],
      "provenance": [],
      "include_colab_link": true
    },
    "kernelspec": {
      "display_name": "Python 3.10.2 64-bit",
      "language": "python",
      "name": "python3"
    },
    "language_info": {
      "codemirror_mode": {
        "name": "ipython",
        "version": 3
      },
      "file_extension": ".py",
      "mimetype": "text/x-python",
      "name": "python",
      "nbconvert_exporter": "python",
      "pygments_lexer": "ipython3",
      "version": "3.10.2"
    },
    "vscode": {
      "interpreter": {
        "hash": "26de051ba29f2982a8de78e945f0abaf191376122a1563185a90213a26c5da77"
      }
    }
  },
  "nbformat": 4,
  "nbformat_minor": 0
}